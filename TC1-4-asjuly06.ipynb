{
 "cells": [
  {
   "cell_type": "code",
   "execution_count": 1,
   "metadata": {},
   "outputs": [
    {
     "name": "stderr",
     "output_type": "stream",
     "text": [
      "/usr/lib/python3.5/importlib/_bootstrap.py:222: RuntimeWarning: numpy.dtype size changed, may indicate binary incompatibility. Expected 96, got 88\n",
      "  return f(*args, **kwds)\n"
     ]
    }
   ],
   "source": [
    "import sys\n",
    "sys.path.append('/usr/local/lib/python3.5/site-packages')\n",
    "import numpy as np\n",
    "import matplotlib.pyplot as plt\n",
    "import pandas as pd\n",
    "import networkx as nx\n",
    "from scipy.optimize import curve_fit\n",
    "import os\n",
    "\n",
    "def lineal(x, a, b):\n",
    "  return a*x + np.log10(b)"
   ]
  },
  {
   "cell_type": "code",
   "execution_count": 2,
   "metadata": {},
   "outputs": [],
   "source": [
    "# Leemos el archivo\n",
    "myFolder=(os.getcwd()+'/tc01_data/') #busca en el directorio actual\n",
    "\n",
    "# Primero creamos la red: \n",
    "#colab = nx.read_gml(myFolder+'netscience.gml')\n",
    "colab= nx.read_gml(myFolder+'as-22july06.gml')\n"
   ]
  },
  {
   "cell_type": "code",
   "execution_count": 3,
   "metadata": {},
   "outputs": [],
   "source": [
    "#eliminamos nodos aislados:\n",
    "aislados=list(nx.isolates(colab))\n",
    "colab.remove_nodes_from(aislados)\n",
    "\n",
    "#Matriz de Adjacencia Aij:\n",
    "C_adj = nx.to_numpy_matrix(colab) \n",
    "#N_adj = nx.to_numpy_matrix(net)\n",
    "\n",
    "nodos = colab.number_of_nodes()\n",
    "#nodosN = net.number_of_nodes()"
   ]
  },
  {
   "cell_type": "code",
   "execution_count": 4,
   "metadata": {},
   "outputs": [],
   "source": [
    "#i)\n",
    "# k_nodo es el vector de grado de cada nodo\n",
    "# knn_nodo es el valor, de grado promedio de vecinos de cada nodo\n",
    "k_nodo= [val for (node, val) in colab.degree()]\n",
    "knn_nodo=np.zeros(len(k_nodo))\n",
    "\n",
    "for i in range(len(k_nodo)):\n",
    "        knn_nodo[i] = np.dot(np.array(C_adj[i,:]), np.array(k_nodo)) / int(k_nodo[i]) #k_nodo[i] numero de vecinos propios para promediar.\n"
   ]
  },
  {
   "cell_type": "code",
   "execution_count": 5,
   "metadata": {},
   "outputs": [
    {
     "name": "stderr",
     "output_type": "stream",
     "text": [
      "/home/danilo/.local/lib/python3.5/site-packages/numpy/core/_methods.py:140: RuntimeWarning: Degrees of freedom <= 0 for slice\n",
      "  keepdims=keepdims)\n",
      "/home/danilo/.local/lib/python3.5/site-packages/numpy/core/_methods.py:132: RuntimeWarning: invalid value encountered in double_scalars\n",
      "  ret = ret.dtype.type(ret / rcount)\n"
     ]
    }
   ],
   "source": [
    "#ii)Grafico de knn en funcion del grado k:\n",
    "#Tenemos que promediar:\n",
    "\n",
    "#Ordenar el knn_nodo en funcion del key del k_nodo\n",
    "knn_nodo=[x for _,x in sorted(zip(k_nodo,knn_nodo))]\n",
    "knn_nodo=np.array(knn_nodo) \n",
    "#Ordenamos el k_nodo\n",
    "k_nodo=np.sort(k_nodo)\n",
    "\n",
    "#k es el vector de grados\n",
    "k=np.unique(k_nodo)\n",
    "knn=np.zeros(len(k))\n",
    "knn_error=np.zeros(len(k))\n",
    "\n",
    "for i,j in enumerate(k):\n",
    "    v=np.where(k_nodo==j)\n",
    "    knn[i]=np.mean(knn_nodo[v])\n",
    "    knn_error[i]=np.std(knn_nodo[v],ddof=1)#ddof=significa degree of freedom en el calculo de la desviacion standar.\n",
    "                                           #Creo que es mejor con ddof=1 porque si es un solo valor(el error no estaria definido)\n",
    "                                           #y entonces asigna correctamente nan como error en vez de error 0 lo cual no estaria bien.         \n",
    "    \n"
   ]
  },
  {
   "cell_type": "code",
   "execution_count": 6,
   "metadata": {},
   "outputs": [
    {
     "name": "stdout",
     "output_type": "stream",
     "text": [
      "punto iii)\n",
      "Ajuste rojo\n",
      "exponente = 0.18851287583655063\n",
      "intercept = 2.0525019398374766\n",
      "\n",
      "\n",
      "Ajuste azul\n",
      "exponente = -0.44417355266027364\n",
      "intercept = 2.7480526078026917\n",
      "\n",
      "\n",
      "Ajuste puntos azules con errores\n",
      "exponente = -0.14841507224256578\n",
      "intercept = 2.4434836026964524\n",
      "\n",
      "\n"
     ]
    }
   ],
   "source": [
    "#iii) Ajuste: con funcion log(knn)=mu*(logk)+log(b)\n",
    "print ('punto iii)')\n",
    "#AJuste 1: usando los puntos rojos\n",
    "parametros1=curve_fit(lineal,np.log10(k_nodo),np.log10(knn_nodo))[0]\n",
    "mu1=parametros1[0]\n",
    "b1=parametros1[1]\n",
    "intercept1=np.log10(b1)\n",
    "\n",
    "print ('Ajuste rojo')\n",
    "print ('exponente = {}'.format(mu1))\n",
    "print ('intercept = {}'.format(intercept1))\n",
    "print('\\n')\n",
    "\n",
    "\n",
    "xfit1=np.linspace(1,10000,100000)\n",
    "yfit1=(b1)*(xfit1**mu1)\n",
    "\n",
    "#Ajuste 2: usando los puntos azules\n",
    "\n",
    "parametros2=curve_fit(lineal,np.log10(k),np.log10(knn))[0]\n",
    "mu2=parametros2[0]\n",
    "b2=parametros2[1]\n",
    "intercept2=np.log10(b2)\n",
    "\n",
    "print ('Ajuste azul')\n",
    "print ('exponente = {}'.format(mu2))\n",
    "print ('intercept = {}'.format(intercept2))\n",
    "print('\\n')\n",
    "\n",
    "xfit2=np.linspace(1,10000,100000)\n",
    "yfit2=(b2)*(xfit2**mu2)\n",
    "\n",
    "#AJuste 3: usando los puntos azules del grafico knn(k) y usando tambien el error:\n",
    "#Para el ajuste con errores me quedo con puntos que tengan knn_error != nan\n",
    "nonan_positions=[i for i,j in enumerate(knn_error) if np.invert(np.isnan(j))==True]\n",
    "knn_error=knn_error[nonan_positions]\n",
    "knn_fit=knn[nonan_positions]\n",
    "k_fit=k[nonan_positions]\n",
    "\n",
    "parametros3=curve_fit(lineal,np.log10(k_fit),np.log10(knn_fit),sigma=(1/np.log(10))*(1/knn_fit)*knn_error)[0]\n",
    "mu3=parametros3[0]\n",
    "b3=parametros3[1]\n",
    "intercept3=np.log10(b3)\n",
    "\n",
    "print ('Ajuste puntos azules con errores')\n",
    "print ('exponente = {}'.format(mu3))\n",
    "print ('intercept = {}'.format(intercept3))\n",
    "print('\\n')\n",
    "\n",
    "\n",
    "xfit3=np.linspace(1,10000,100000)\n",
    "yfit3=(b3)*(xfit3**mu3)\n",
    "\n"
   ]
  },
  {
   "cell_type": "code",
   "execution_count": 7,
   "metadata": {},
   "outputs": [
    {
     "data": {
      "image/png": "[encoded data removed]",
      "text/plain": [
       "<matplotlib.figure.Figure at 0x7fc204ab1208>"
      ]
     },
     "metadata": {},
     "output_type": "display_data"
    }
   ],
   "source": [
    "#Graficos\n",
    "plt.figure(1)\n",
    "#Puntos rojos\n",
    "plt.plot(k_nodo,knn_nodo,'ro',markersize=1)\n",
    "#Puntos azules\n",
    "plt.plot(k,knn,'bo',markersize=3)\n",
    "#Puntos azules con barra de error=desv standar\n",
    "plt.errorbar(k_fit,knn_fit,(1/np.log(10))*(1/knn_fit)*knn_error,fmt='bo',ecolor='limegreen',elinewidth=1,capsize=5,markersize=3)\n",
    "\n",
    "#AJustes:\n",
    "plt.plot(xfit1,yfit1,color='darksalmon',label='Ajuste puntos rojos')\n",
    "plt.plot(xfit2,yfit2,color='mediumslateblue',label='Ajuste puntos azules')\n",
    "plt.plot(xfit3,yfit3,color='limegreen',label='Ajuste puntos azules con errores')\n",
    "#Propiedades grafico:\n",
    "plt.xscale('log')\n",
    "plt.yscale('log')\n",
    "plt.xlabel('$k$')\n",
    "plt.ylabel('$knn$')\n",
    "plt.title('Exponente de Correlacion - Red de Internet (as-22july06)')\n",
    "plt.legend()\n",
    "plt.show()\n"
   ]
  },
  {
   "cell_type": "code",
   "execution_count": 8,
   "metadata": {},
   "outputs": [
    {
     "name": "stdout",
     "output_type": "stream",
     "text": [
      "Asortatividad Barabasi (mu) = -0.14841507224256578\n",
      "Asortatividad Newman (r) = -0.19838487512056477\n"
     ]
    }
   ],
   "source": [
    "#iv)Asortividad con estimador de Newman:\n",
    "#Segun libro de Newman se puede calcular r de la siguiente forma:\n",
    "#r=(S1*Se-S2**2)/(S1*S3-S2**2)\n",
    "\n",
    "S1=np.sum(k_nodo)\n",
    "S2=np.sum(k_nodo**2)\n",
    "S3=np.sum(k_nodo**3)\n",
    "\n",
    "se=0\n",
    "enlaces=list(colab.edges())\n",
    "for i,e in enumerate(enlaces):\n",
    " se=se+colab.degree(enlaces[i][0])*colab.degree(enlaces[i][1])\n",
    "Se=2*se\n",
    "\n",
    "r=(S1*Se-S2**2)/float(S1*S3-S2**2)\n",
    "\n",
    "print ('Asortatividad Barabasi (mu) = {}'.format(mu3))\n",
    "print ('Asortatividad Newman (r) = {}'.format(r))"
   ]
  },
  {
   "cell_type": "code",
   "execution_count": 12,
   "metadata": {},
   "outputs": [
    {
     "data": {
      "text/plain": [
       "'\\npunto iii)\\nAjuste rojo\\nexponente = 0.707886547728\\nintercept = 0.256395513473\\n\\n\\nAjuste azul\\nexponente = 0.306116655385\\nintercept = 0.256395513473\\n\\n\\nAjuste puntos azules con errores\\nexponente = 0.316971783244\\nintercept = 0.558431179311\\n\\npunto iv)\\nAsortatividad Barabasi (mu) = 0.316971783244\\nAsortatividad Newman (r) = 0.461622466753\\n'"
      ]
     },
     "execution_count": 12,
     "metadata": {},
     "output_type": "execute_result"
    }
   ],
   "source": [
    "#Resumen de resultados:\n",
    "#Output\n",
    "'''\n",
    "Red de Internet:\n",
    "punto iii)\n",
    "Ajuste rojo\n",
    "exponente = 0.18851287583655063\n",
    "intercept = 2.0525019398374766\n",
    "\n",
    "\n",
    "Ajuste azul\n",
    "exponente = -0.44417355266027364\n",
    "intercept = 2.7480526078026917\n",
    "\n",
    "\n",
    "Ajuste puntos azules con errores\n",
    "exponente = -0.14841507224256578\n",
    "intercept = 2.4434836026964524\n",
    "\n",
    "\n",
    "punto iv)\n",
    "Asortatividad Barabasi (mu) = -0.14841507224256578\n",
    "Asortatividad Newman (r) = -0.19838487512056477\n",
    "'''\n"
   ]
  },
  {
   "cell_type": "code",
   "execution_count": null,
   "metadata": {},
   "outputs": [],
   "source": []
  }
 ],
 "metadata": {
  "kernelspec": {
   "display_name": "Python 3",
   "language": "python",
   "name": "python3"
  },
  "language_info": {
   "codemirror_mode": {
    "name": "ipython",
    "version": 3
   },
   "file_extension": ".py",
   "mimetype": "text/x-python",
   "name": "python",
   "nbconvert_exporter": "python",
   "pygments_lexer": "ipython3",
   "version": "3.5.2"
  }
 },
 "nbformat": 4,
 "nbformat_minor": 2
}
