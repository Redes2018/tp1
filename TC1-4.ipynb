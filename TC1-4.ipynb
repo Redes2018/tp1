{
 "cells": [
  {
   "cell_type": "code",
   "execution_count": 1,
   "metadata": {},
   "outputs": [
    {
     "name": "stderr",
     "output_type": "stream",
     "text": [
      "/usr/local/lib/python3.5/dist-packages/pandas/core/computation/__init__.py:18: UserWarning: The installed version of numexpr 2.4.3 is not supported in pandas and will be not be used\n",
      "The minimum supported version is 2.4.6\n",
      "\n",
      "  ver=ver, min_ver=_MIN_NUMEXPR_VERSION), UserWarning)\n"
     ]
    }
   ],
   "source": [
    "import sys\n",
    "sys.path.append('/usr/local/lib/python3.5/site-packages')\n",
    "import numpy as np\n",
    "import matplotlib.pyplot as plt\n",
    "import pandas as pd\n",
    "import networkx as nx\n",
    "import os"
   ]
  },
  {
   "cell_type": "code",
   "execution_count": 2,
   "metadata": {},
   "outputs": [],
   "source": [
    "# Leemos el archivo\n",
    "myFolder=(os.getcwd()+'/tc01_data/') #busca en el directorio actual\n",
    "\n",
    "# Primero creamos la red de delfines. Agregando los enlaces se agregan automaticamente los nodos\n",
    "colab = nx.read_gml(myFolder+'netscience.gml')\n",
    "net = nx.read_gml(myFolder+'as-22july06.gml')\n"
   ]
  },
  {
   "cell_type": "code",
   "execution_count": 22,
   "metadata": {},
   "outputs": [],
   "source": [
    "C_adj = nx.to_numpy_matrix(colab)\n",
    "N_adj = nx.to_numpy_matrix(net)\n",
    "\n",
    "nodosC = colab.number_of_nodes()\n",
    "nodosN = net.number_of_nodes()"
   ]
  },
  {
   "cell_type": "code",
   "execution_count": 76,
   "metadata": {},
   "outputs": [],
   "source": [
    "# k es el vector de grado de cada nodo\n",
    "k_C = [val for (node, val) in colab.degree()]\n",
    "k_annd_C = np.zeros(nodosC)\n",
    "\n",
    "for i in range(nodosC):\n",
    "    if k_C[i]==0:\n",
    "        k_annd_C[i]=0\n",
    "    else:\n",
    "        k_annd_C[i] = np.dot(np.array(C_adj[i,:]), k_C) / k_C[i]\n"
   ]
  },
  {
   "cell_type": "markdown",
   "metadata": {},
   "source": [
    "# Nombre del nodo - Grado - Promedio de k(vecino)"
   ]
  }
 ],
 "metadata": {
  "kernelspec": {
   "display_name": "Python 3",
   "language": "python",
   "name": "python3"
  },
  "language_info": {
   "codemirror_mode": {
    "name": "ipython",
    "version": 3
   },
   "file_extension": ".py",
   "mimetype": "text/x-python",
   "name": "python",
   "nbconvert_exporter": "python",
   "pygments_lexer": "ipython3",
   "version": "3.5.2"
  }
 },
 "nbformat": 4,
 "nbformat_minor": 2
}
