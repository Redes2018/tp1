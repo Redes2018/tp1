{
 "cells": [
  {
   "cell_type": "code",
   "execution_count": 7,
   "metadata": {},
   "outputs": [],
   "source": [
    "import sys\n",
    "sys.path.append('/usr/local/lib/python3.5/site-packages')\n",
    "import numpy as np\n",
    "import matplotlib.pyplot as plt\n",
    "import pandas as pd\n",
    "import networkx as nx\n",
    "import os"
   ]
  },
  {
   "cell_type": "markdown",
   "metadata": {},
   "source": [
    "Ejercicio 1:  Proteinas/Levadura"
   ]
  },
  {
   "cell_type": "code",
   "execution_count": 10,
   "metadata": {},
   "outputs": [],
   "source": [
    "#Leemos el archivo\n",
    "myFolder=(os.getcwd()+'/tc01_data/') #busca en el directorio actual\n",
    "\n",
    "data1 = pd.read_csv(myFolder+'yeast_Y2H.txt', sep='\\t', header=None)\n",
    "data2 = pd.read_csv(myFolder+'yeast_AP-MS.txt', sep='\\t', header=None)\n",
    "data3 = pd.read_csv(myFolder+'yeast_LIT.txt', sep='\\t', header=None)\n",
    "\n",
    "#Para acceder a un valor es data[col][fila]\n",
    "\n",
    "G1=nx.Graph()\n",
    "G2=nx.Graph()\n",
    "G3=nx.Graph()\n",
    "\n",
    "for i in range(len(data1)):\n",
    "    G1.add_edges_from([(data1[0][i],data1[1][i])])\n",
    "\n",
    "nodes1=G1.number_of_nodes()\n",
    "edges1=G1.number_of_edges()\n",
    "\n",
    "\n",
    "for i in range(len(data2)):\n",
    "    G2.add_edges_from([(data2[0][i],data2[1][i])])\n",
    "\n",
    "nodes2=G2.number_of_nodes()\n",
    "edges2=G2.number_of_edges()\n",
    "\n",
    "\n",
    "for i in range(len(data3)):\n",
    "    G3.add_edges_from([(data3[0][i],data3[1][i])])\n",
    "\n",
    "nodes3=G3.number_of_nodes()\n",
    "edges3=G3.number_of_edges()\n"
   ]
  },
  {
   "cell_type": "code",
   "execution_count": 37,
   "metadata": {},
   "outputs": [
    {
     "name": "stdout",
     "output_type": "stream",
     "text": [
      "   <C_clust>  C_gclust  Densidad  Diametros  Dirigida  Enlaces  K max  \\\n",
      "0   0.046194  0.023614  0.001440         14     False     2930     92   \n",
      "1   0.554636  0.618590  0.006899         15     False     9070    128   \n",
      "2   0.292492  0.346193  0.002481         19     False     2925     41   \n",
      "\n",
      "   K medio  K min  Nodos    Red  \n",
      "0        3      1   2018    Y2H  \n",
      "1       11      1   1622  AP-MS  \n",
      "2        4      1   1536    LIT  \n"
     ]
    }
   ],
   "source": [
    "#El grado medio se puede calcular mediante k_mean=2m/n, donde m es la cantidad de enlaces total y n la cant de nodos\n",
    "K_mean1=round(2*float(edges1)/nodes1)\n",
    "K_mean2=round(2*float(edges2)/nodes2)\n",
    "K_mean3=round(2*float(edges3)/nodes3)\n",
    "\n",
    "#uso la funcion degree_histogram que en 'y' pone la frecuencia que aparece un cierto grado\n",
    "a=nx.degree_histogram(G1)\n",
    "b=nx.degree_histogram(G2)\n",
    "c=nx.degree_histogram(G3)\n",
    "\n",
    "#El maximo es el largo que tiene el histograma de grados que hace py\n",
    "K_max1=len(nx.degree_histogram(G1))\n",
    "K_max2=len(nx.degree_histogram(G2))\n",
    "K_max3=len(nx.degree_histogram(G3))\n",
    "\n",
    "#El minimo es el primer numero no nulo que aparezca en la lista del histograma, para eso uso el iterador next()\n",
    "#y uso el enumerate() para hacer a la lista a,b,c un iterable\n",
    "K_min1=next((i for i, x in enumerate(a) if x!=0), None)\n",
    "K_min2=next((i for i, x in enumerate(b) if x!=0), None)\n",
    "K_min3=next((i for i, x in enumerate(c) if x!=0), None)\n",
    "\n",
    "#densidad de la red uso density(G)(d=numero enlaces/enlaces maximos posibles)\n",
    "d1=nx.density(G1)\n",
    "d2=nx.density(G2)\n",
    "d3=nx.density(G3)\n",
    "\n",
    "#Coef de clustering medio:\n",
    "#c_1= #triangulos con vertice en 1/triangulos posibles con vertice en 1\n",
    "#C_mean es el promedio de los c_i sobre todos los nodos de la red.\n",
    "C_mean1= nx.average_clustering(G1)\n",
    "C_mean2= nx.average_clustering(G2)\n",
    "C_mean3= nx.average_clustering(G3)\n",
    "\n",
    "# Clausura transitiva de la red o Global Clustering o Transitividad:\n",
    "#C_gclust = 3*nx.triangles(G1)/ sumatoria sobre (todos los posibles triangulos)\n",
    "C_gclust1=nx.transitivity(G1)\n",
    "C_gclust2=nx.transitivity(G2)\n",
    "C_gclust3=nx.transitivity(G3)\n",
    "\n",
    "\n",
    "#Para ver si estaba direccionada existe 'is.directed()' pero como ya se mencionó, se trabajan con levaduras y no tiene sentido.   \n",
    "\n",
    "giant_graph1 = max(nx.connected_component_subgraphs(G1),key=len)\n",
    "diam1=nx.diameter(giant_graph1)\n",
    "\n",
    "giant_graph2 = max(nx.connected_component_subgraphs(G2),key=len)\n",
    "diam2=nx.diameter(giant_graph2)\n",
    "\n",
    "giant_graph3 = max(nx.connected_component_subgraphs(G3),key=len)\n",
    "diam3=nx.diameter(giant_graph3)\n",
    "\n",
    "haytabla = pd.DataFrame({\"Red\":[\"Y2H\",\"AP-MS\",\"LIT\"],\n",
    "                    \"Nodos\":[nodes1,nodes2,nodes3],\n",
    "                     \"Enlaces\":[edges1,edges2,edges3],\n",
    "                     \"K medio\":[K_mean1,K_mean2,K_mean3],\n",
    "                     \"K max\":[K_max1,K_max2,K_max3],\n",
    "                     \"K min\":[K_min1,K_min2,K_min3],\n",
    "                     \"Dirigida\":[False,False,False],\n",
    "                     \"Densidad\":[d1,d2,d3],\"<C_clust>\":[C_mean1,C_mean2,C_mean3],\n",
    "                     \"C_gclust\":[C_gclust1,C_gclust2,C_gclust3],\n",
    "                     \"Diametros\":[diam1, diam2, diam3],\n",
    "                   })\n",
    "print (haytabla)\n"
   ]
  },
  {
   "cell_type": "code",
   "execution_count": null,
   "metadata": {
    "collapsed": true
   },
   "outputs": [],
   "source": []
  }
 ],
 "metadata": {
  "kernelspec": {
   "display_name": "Python 3",
   "language": "python",
   "name": "python3"
  },
  "language_info": {
   "codemirror_mode": {
    "name": "ipython",
    "version": 3
   },
   "file_extension": ".py",
   "mimetype": "text/x-python",
   "name": "python",
   "nbconvert_exporter": "python",
   "pygments_lexer": "ipython3",
   "version": "3.5.2"
  }
 },
 "nbformat": 4,
 "nbformat_minor": 2
}
